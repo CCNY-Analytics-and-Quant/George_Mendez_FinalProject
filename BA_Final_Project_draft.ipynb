{
 "cells": [
  {
   "cell_type": "code",
   "execution_count": 2,
   "metadata": {
    "colab": {
     "base_uri": "https://localhost:8080/",
     "height": 443
    },
    "id": "7C6IPzwKwMqI",
    "outputId": "91b71f03-1c93-4fd3-cee1-e787169f8353"
   },
   "outputs": [],
   "source": [
    "#import libraries and dependencies\n",
    "import pandas as pd\n",
    "import yfinance as yf\n",
    "import numpy as np\n",
    "from scipy.stats import zscore\n",
    "import matplotlib.pyplot as plt\n",
    "from scipy import stats\n",
    "import datetime as dt\n",
    "from sklearn import linear_model\n",
    "from pandas import Timestamp\n",
    "from scipy.stats import linregress\n",
    "\n",
    "pd.set_option('display.max_columns', None)\n"
   ]
  },
  {
   "cell_type": "code",
   "execution_count": 3,
   "metadata": {
    "colab": {
     "base_uri": "https://localhost:8080/",
     "height": 564
    },
    "id": "D1wG7tMQyp6B",
    "outputId": "8b4c1ee9-22fa-4ae3-e7eb-a7bb3a8438bf"
   },
   "outputs": [
    {
     "name": "stdout",
     "output_type": "stream",
     "text": [
      "[*********************100%%**********************]  504 of 504 completed"
     ]
    },
    {
     "name": "stderr",
     "output_type": "stream",
     "text": [
      "\n",
      "3 Failed downloads:\n",
      "['BRK.B', '-']: Exception('%ticker%: No data found, symbol may be delisted')\n",
      "['BF.B']: Exception('%ticker%: No price data found, symbol may be delisted (period=1y)')\n"
     ]
    },
    {
     "name": "stdout",
     "output_type": "stream",
     "text": [
      "\n"
     ]
    }
   ],
   "source": [
    "# Step 1: Choose an ETF and identify assets\n",
    "df_spy=pd.read_excel('https://www.ssga.com/us/en/institutional/etfs/library-content/products/fund-data/etfs/us/holdings-daily-us-en-spy.xlsx',header=4)\n",
    "etf_ticker=df_spy['Ticker'].dropna().to_list() #identifying the assets inside the s&p500\n",
    "\n",
    "# Step 2: Retrieve historical data for the ETF\n",
    "historical_data = yf.download(etf_ticker, period='1y') #looks good\n"
   ]
  },
  {
   "cell_type": "code",
   "execution_count": 4,
   "metadata": {},
   "outputs": [
    {
     "name": "stderr",
     "output_type": "stream",
     "text": [
      "C:\\Users\\georg\\AppData\\Local\\Temp\\ipykernel_29656\\1736214376.py:5: FutureWarning: The default fill_method='pad' in DataFrame.pct_change is deprecated and will be removed in a future version. Call ffill before calling pct_change to retain current behavior and silence this warning.\n",
      "  HIST_DATA=historical_data[historical_data.columns].pct_change(periods=20).dropna(how='all',axis=0) #George's Idea\n"
     ]
    }
   ],
   "source": [
    "# Step 3: Calculate the price momentum factors\n",
    "# Here, we use a simple 1-month rate of change\n",
    "\n",
    "#Calculating the 1st factor (52 week trend line)\n",
    "HIST_DATA=historical_data[historical_data.columns].pct_change(periods=20).dropna(how='all',axis=0) #George's Idea\n",
    "HIST_DATA=HIST_DATA.drop(HIST_DATA.columns[0],axis=1)['Adj Close'] #first column is all NAN's\n",
    "\n",
    "#Trend line (slope) for 1 asset \"AAL\"  credit: https://stackoverflow.com/questions/53100393/how-to-get-slope-from-timeseries-data-in-pandas\n",
    "# https://www.appsloveworld.com/pandas/100/13/how-to-get-slope-from-timeseries-data-in-pandas?expand_article=1    \n",
    "# Extract numeric representation of dates for linear regression\n",
    "def getslope(data):\n",
    "    x_values = np.arange(len(data.index.values))\n",
    "    \n",
    "    # Perform linear regression\n",
    "    slope, intercept, r_value, p_value, std_err = linregress(x_values, data)\n",
    "    \n",
    "    return slope#Thanks to ChatGPT for helping me get the slope as i did not know how to do it for a time series data\n",
    "\n",
    "#now lets get the slope for all the assets\n",
    "#getslope(HIST_DATA['AAL']) test case\n",
    "\n",
    "slopes=HIST_DATA.apply(getslope) #it's rounding but that's fine\n",
    "#HIST_DATA['AAL'].plot(kind='line') #plot of 1 trend line \n",
    "\n",
    "\n",
    "#Step 4:\n",
    "slopes=slopes.dropna() #the nans need to be removed\n",
    "assets_Zscores=zscore(slopes) #get the Z score\n",
    "#assets_Zscores Always nice to take a quick look\n",
    "\n",
    "#Step 5: Identify baskets (I Think it works)\n",
    "#resource: https://www.freshbooks.com/glossary/financial/z-score#:~:text=What%20Is%20a%20Good%20Z,considered%20above%20the%20standard%20score.\n",
    "#I'll define my boundary at 3 and even though i hate shorting stocks but for this project we will short those under 1.8\n",
    "#link: https://www.investopedia.com/terms/a/altman.asp#:~:text=A%20score%20below%201.8%20signals,value%20is%20closer%20to%201.8.\n",
    "buy=assets_Zscores[assets_Zscores>1.8]\n",
    "short=assets_Zscores[assets_Zscores<1.8]"
   ]
  },
  {
   "cell_type": "code",
   "execution_count": 5,
   "metadata": {},
   "outputs": [
    {
     "name": "stdout",
     "output_type": "stream",
     "text": [
      "[*********************100%%**********************]  504 of 504 completed"
     ]
    },
    {
     "name": "stderr",
     "output_type": "stream",
     "text": [
      "\n",
      "5 Failed downloads:\n",
      "['BRK.B', '-']: Exception('%ticker%: No timezone found, symbol may be delisted')\n",
      "['KVUE', 'VLTO']: Exception(\"%ticker%: Data doesn't exist for startDate = 1514782800, endDate = 1672549200\")\n",
      "['BF.B']: Exception('%ticker%: No price data found, symbol may be delisted (1d 2018-01-01 -> 2023-01-01)')\n"
     ]
    },
    {
     "name": "stdout",
     "output_type": "stream",
     "text": [
      "\n"
     ]
    },
    {
     "name": "stderr",
     "output_type": "stream",
     "text": [
      "C:\\Users\\georg\\AppData\\Local\\Temp\\ipykernel_29656\\2195601254.py:9: FutureWarning: The default fill_method='pad' in DataFrame.pct_change is deprecated and will be removed in a future version. Call ffill before calling pct_change to retain current behavior and silence this warning.\n",
      "  HIST_DATA=historical_data[historical_data.columns].pct_change(periods=20).dropna(how='all',axis=0)\n"
     ]
    }
   ],
   "source": [
    "#Step 6: Back test \n",
    "#To run this for 5 years we can get the data for all of our assets for the last 5 years and for each of the 60 months buy the suggested stock\n",
    "#to see it's returns for those  periods\n",
    "\n",
    "historical_data = yf.download(etf_ticker, start='2018-01-01', end='2023-01-01')\n",
    "historical_data=historical_data['Adj Close'].drop(columns='-')\n",
    "\n",
    "#Calculating the 1st factor (52 week trend line)\n",
    "HIST_DATA=historical_data[historical_data.columns].pct_change(periods=20).dropna(how='all',axis=0)\n",
    "assets_Zscores=zscore(HIST_DATA.apply(getslope).dropna()) #get the Z score\n",
    "buy=assets_Zscores[assets_Zscores>1.8]\n",
    "short=assets_Zscores[assets_Zscores<1.8]\n",
    "buynow=buy[0:15] #lets buy this on january first and see how much we would have made\n",
    "shortnow=short[0:10] #We can short these"
   ]
  },
  {
   "cell_type": "code",
   "execution_count": 6,
   "metadata": {},
   "outputs": [
    {
     "name": "stdout",
     "output_type": "stream",
     "text": [
      "ALB     2.021040\n",
      "APA     2.830595\n",
      "BBWI    1.921529\n",
      "DVN     3.344415\n",
      "EOG     2.248615\n",
      "EQT     3.026700\n",
      "FANG    2.396167\n",
      "FCX     1.976041\n",
      "FSLR    2.541589\n",
      "HAL     3.081373\n",
      "KHC     1.891219\n",
      "MPC     2.017218\n",
      "MRO     2.817096\n",
      "NUE     2.062247\n",
      "OXY     2.998400\n",
      "dtype: float64 A       0.364925\n",
      "AAL     0.884792\n",
      "AAPL   -0.692455\n",
      "ABBV    1.191747\n",
      "ABT    -0.766205\n",
      "ACGL    0.895966\n",
      "ACN    -0.308543\n",
      "ADBE   -1.696200\n",
      "ADI    -0.028365\n",
      "ADM     0.875900\n",
      "dtype: float64\n"
     ]
    }
   ],
   "source": [
    "print(buynow,shortnow)"
   ]
  },
  {
   "cell_type": "code",
   "execution_count": null,
   "metadata": {},
   "outputs": [],
   "source": [
    "#STEPS 6 & 7 NO IDEA WHAT TO DO NOW"
   ]
  }
 ],
 "metadata": {
  "colab": {
   "provenance": []
  },
  "kernelspec": {
   "display_name": "Python 3 (ipykernel)",
   "language": "python",
   "name": "python3"
  },
  "language_info": {
   "codemirror_mode": {
    "name": "ipython",
    "version": 3
   },
   "file_extension": ".py",
   "mimetype": "text/x-python",
   "name": "python",
   "nbconvert_exporter": "python",
   "pygments_lexer": "ipython3",
   "version": "3.10.11"
  }
 },
 "nbformat": 4,
 "nbformat_minor": 4
}
